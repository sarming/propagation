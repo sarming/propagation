{
 "cells": [
  {
   "cell_type": "code",
   "execution_count": 1,
   "metadata": {},
   "outputs": [],
   "source": [
    "import numpy as np\n",
    "import scipy as sp\n",
    "import pandas as pd\n",
    "import networkx as nx\n",
    "from snsim.propagation import propagation, read, simulation\n",
    "from snsim.propagation.simulation import Simulation"
   ]
  },
  {
   "cell_type": "code",
   "execution_count": 5,
   "metadata": {},
   "outputs": [
    {
     "data": {
      "text/plain": [
       "<module 'read' from '/Users/ian/src/propagation/read.py'>"
      ]
     },
     "execution_count": 5,
     "metadata": {},
     "output_type": "execute_result"
    }
   ],
   "source": [
    "import importlib\n",
    "importlib.reload(read)\n",
    "#from simulation import Simulation\n",
    "#ray.init()"
   ]
  },
  {
   "cell_type": "code",
   "execution_count": 8,
   "metadata": {},
   "outputs": [
    {
     "name": "stdout",
     "output_type": "stream",
     "text": [
      "ss\n"
     ]
    }
   ],
   "source": [
    "if None:\n",
    "    print('test')\n",
    "else:\n",
    "    print('ss')"
   ]
  },
  {
   "cell_type": "markdown",
   "metadata": {},
   "source": [
    "## Loading the anonymized follower graphs\n",
    "Right now we read in the adjacency lists using NetworkX. This builds a dense representation which needs quadratric time and space.\n",
    "So we only want to do this only once and store it as a sparse matrix together with node labels."
   ]
  },
  {
   "cell_type": "code",
   "execution_count": 3,
   "metadata": {},
   "outputs": [],
   "source": [
    "graph = read.adjlist('data/anonymized_outer_graph_neos_20200311.adjlist')\n",
    "A = nx.to_scipy_sparse_matrix(graph)\n",
    "node_labels = graph.nodes()\n",
    "read.save_labelled_graph('data/outer_neos.npz', A, node_labels, compressed=False)"
   ]
  },
  {
   "cell_type": "markdown",
   "metadata": {},
   "source": [
    "Or, alternatively, in one line:"
   ]
  },
  {
   "cell_type": "code",
   "execution_count": 4,
   "metadata": {},
   "outputs": [
    {
     "data": {
      "text/plain": [
       "<networkx.classes.digraph.DiGraph at 0x1209a3fd0>"
      ]
     },
     "execution_count": 4,
     "metadata": {},
     "output_type": "execute_result"
    }
   ],
   "source": [
    "read.adjlist('data/anonymized_outer_graph_neos_20200311.adjlist', save_as='data/outer_neos.npz')"
   ]
  },
  {
   "cell_type": "markdown",
   "metadata": {},
   "source": [
    "For the future we can now use the much faster:"
   ]
  },
  {
   "cell_type": "code",
   "execution_count": 2,
   "metadata": {},
   "outputs": [],
   "source": [
    "A, node_labels = read.labelled_graph('data/outer_neos.npz')"
   ]
  },
  {
   "cell_type": "markdown",
   "metadata": {},
   "source": [
    "## Basic message propagation\n",
    "The fundamental function of our model is `edge_propagate`.\n",
    "In a single call node `source` sends a message to all its followers, who with (uniform) edge probability `p` retweet it in turn.\n",
    "At every level, `p` gets smaller by multiplication with a discount factor `discount` $< 1$.\n",
    "If a node receives a message a second time, it discards it, irrespective of if it retweeted it or not.\n",
    "This continues until either maximimum depth `depth` is reached or `max_nodes` have retweeted the message.\n",
    "\n",
    "The return value is the number of nodes that resent/retweeted the message.\n",
    "\n",
    "The concrete values below are not realistic for our twitter use case (`p` is much too high and `discount` to low), but allow to play around and observe the stochastic nature of the call. "
   ]
  },
  {
   "cell_type": "code",
   "execution_count": 6,
   "metadata": {},
   "outputs": [
    {
     "data": {
      "text/plain": [
       "1699"
      ]
     },
     "execution_count": 6,
     "metadata": {},
     "output_type": "execute_result"
    }
   ],
   "source": [
    "propagation.edge_propagate(A, source=0, p=0.5, discount=0.2, depth=10, max_nodes=10000)"
   ]
  },
  {
   "cell_type": "markdown",
   "metadata": {},
   "source": [
    "We can run several propagations using the function `simulate`.\n",
    "It takes a list of source nodes and runs `samples` many propagations for each start node.\n",
    "\n",
    "It returns the mean number of retweets (ie. the expected number of retweets) per tweet, and the fraction of tweets that are retweeted at least once (ie. the retweet probability).\n",
    "These are the two main statistics we use to compare our model to the data."
   ]
  },
  {
   "cell_type": "code",
   "execution_count": 7,
   "metadata": {},
   "outputs": [
    {
     "data": {
      "text/plain": [
       "(1.5526666666666666, 0.019666666666666666)"
      ]
     },
     "execution_count": 7,
     "metadata": {},
     "output_type": "execute_result"
    }
   ],
   "source": [
    "propagation.simulate(A, sources=[0,1,2], p=0.01, discount=0.9, depth=10, max_nodes=1000, samples=1000)"
   ]
  },
  {
   "cell_type": "markdown",
   "metadata": {},
   "source": [
    "Passing `return_stats=False` the `simulate` function yields the complete results.\n",
    "In the example below one can observe the crucial role the outdegree of the source node plays: $\\delta^-(0)=7$, $\\delta^-(1)=0$, $\\delta^-(3)=232$."
   ]
  },
  {
   "cell_type": "code",
   "execution_count": 8,
   "metadata": {},
   "outputs": [
    {
     "name": "stdout",
     "output_type": "stream",
     "text": [
      "[0, 0, 0, 0, 0, 0, 0, 0, 0, 0, 0, 0, 0, 0, 0, 0, 0, 0, 0, 0]\n",
      "[0, 0, 0, 0, 0, 0, 0, 0, 0, 0, 0, 0, 0, 0, 0, 0, 0, 0, 0, 0]\n",
      "[0, 0, 4, 3, 1, 35, 85, 2, 17, 4, 10000, 10000, 2, 2924, 823, 6, 750, 2, 2, 5]\n"
     ]
    }
   ],
   "source": [
    "for source in propagation.simulate(A, sources=[0,1,3], p=0.01, discount=0.9, depth=10, max_nodes=10000, samples=20, return_stats=False):\n",
    "    print(list(source))"
   ]
  },
  {
   "cell_type": "markdown",
   "metadata": {},
   "source": [
    "## Tweet data\n",
    "For every source tweet in our dataset we extract several features of both the author and the tweet, as well as the number of retweets.\n",
    "\n",
    "Below is the resulting csv file, albeit with a limited selection of features.\n",
    "\n"
   ]
  },
  {
   "cell_type": "code",
   "execution_count": 9,
   "metadata": {},
   "outputs": [
    {
     "data": {
      "text/html": [
       "<div>\n",
       "<style scoped>\n",
       "    .dataframe tbody tr th:only-of-type {\n",
       "        vertical-align: middle;\n",
       "    }\n",
       "\n",
       "    .dataframe tbody tr th {\n",
       "        vertical-align: top;\n",
       "    }\n",
       "\n",
       "    .dataframe thead th {\n",
       "        text-align: right;\n",
       "    }\n",
       "</style>\n",
       "<table border=\"1\" class=\"dataframe\">\n",
       "  <thead>\n",
       "    <tr style=\"text-align: right;\">\n",
       "      <th></th>\n",
       "      <th>author</th>\n",
       "      <th>verified</th>\n",
       "      <th>activity</th>\n",
       "      <th>defaultprofile</th>\n",
       "      <th>userurl</th>\n",
       "      <th>hashtag</th>\n",
       "      <th>tweeturl</th>\n",
       "      <th>mentions</th>\n",
       "      <th>media</th>\n",
       "      <th>retweets</th>\n",
       "    </tr>\n",
       "  </thead>\n",
       "  <tbody>\n",
       "    <tr>\n",
       "      <th>0</th>\n",
       "      <td>8091533</td>\n",
       "      <td>0</td>\n",
       "      <td>0</td>\n",
       "      <td>1</td>\n",
       "      <td>0</td>\n",
       "      <td>1</td>\n",
       "      <td>0</td>\n",
       "      <td>1</td>\n",
       "      <td>0</td>\n",
       "      <td>0</td>\n",
       "    </tr>\n",
       "    <tr>\n",
       "      <th>1</th>\n",
       "      <td>283096</td>\n",
       "      <td>0</td>\n",
       "      <td>0</td>\n",
       "      <td>0</td>\n",
       "      <td>1</td>\n",
       "      <td>1</td>\n",
       "      <td>0</td>\n",
       "      <td>1</td>\n",
       "      <td>0</td>\n",
       "      <td>2</td>\n",
       "    </tr>\n",
       "    <tr>\n",
       "      <th>2</th>\n",
       "      <td>1087609</td>\n",
       "      <td>0</td>\n",
       "      <td>0</td>\n",
       "      <td>1</td>\n",
       "      <td>0</td>\n",
       "      <td>1</td>\n",
       "      <td>1</td>\n",
       "      <td>0</td>\n",
       "      <td>0</td>\n",
       "      <td>0</td>\n",
       "    </tr>\n",
       "    <tr>\n",
       "      <th>3</th>\n",
       "      <td>8400570</td>\n",
       "      <td>0</td>\n",
       "      <td>0</td>\n",
       "      <td>0</td>\n",
       "      <td>1</td>\n",
       "      <td>1</td>\n",
       "      <td>1</td>\n",
       "      <td>1</td>\n",
       "      <td>0</td>\n",
       "      <td>6</td>\n",
       "    </tr>\n",
       "    <tr>\n",
       "      <th>4</th>\n",
       "      <td>252015</td>\n",
       "      <td>0</td>\n",
       "      <td>1</td>\n",
       "      <td>0</td>\n",
       "      <td>1</td>\n",
       "      <td>0</td>\n",
       "      <td>0</td>\n",
       "      <td>0</td>\n",
       "      <td>0</td>\n",
       "      <td>21</td>\n",
       "    </tr>\n",
       "    <tr>\n",
       "      <th>...</th>\n",
       "      <td>...</td>\n",
       "      <td>...</td>\n",
       "      <td>...</td>\n",
       "      <td>...</td>\n",
       "      <td>...</td>\n",
       "      <td>...</td>\n",
       "      <td>...</td>\n",
       "      <td>...</td>\n",
       "      <td>...</td>\n",
       "      <td>...</td>\n",
       "    </tr>\n",
       "    <tr>\n",
       "      <th>7451</th>\n",
       "      <td>639211</td>\n",
       "      <td>1</td>\n",
       "      <td>0</td>\n",
       "      <td>1</td>\n",
       "      <td>1</td>\n",
       "      <td>0</td>\n",
       "      <td>0</td>\n",
       "      <td>1</td>\n",
       "      <td>0</td>\n",
       "      <td>5</td>\n",
       "    </tr>\n",
       "    <tr>\n",
       "      <th>7452</th>\n",
       "      <td>6244880</td>\n",
       "      <td>0</td>\n",
       "      <td>0</td>\n",
       "      <td>0</td>\n",
       "      <td>0</td>\n",
       "      <td>1</td>\n",
       "      <td>1</td>\n",
       "      <td>0</td>\n",
       "      <td>0</td>\n",
       "      <td>1</td>\n",
       "    </tr>\n",
       "    <tr>\n",
       "      <th>7453</th>\n",
       "      <td>1559022</td>\n",
       "      <td>0</td>\n",
       "      <td>0</td>\n",
       "      <td>0</td>\n",
       "      <td>0</td>\n",
       "      <td>0</td>\n",
       "      <td>0</td>\n",
       "      <td>1</td>\n",
       "      <td>0</td>\n",
       "      <td>14</td>\n",
       "    </tr>\n",
       "    <tr>\n",
       "      <th>7454</th>\n",
       "      <td>2632615</td>\n",
       "      <td>0</td>\n",
       "      <td>0</td>\n",
       "      <td>1</td>\n",
       "      <td>0</td>\n",
       "      <td>0</td>\n",
       "      <td>0</td>\n",
       "      <td>0</td>\n",
       "      <td>0</td>\n",
       "      <td>0</td>\n",
       "    </tr>\n",
       "    <tr>\n",
       "      <th>7455</th>\n",
       "      <td>8994464</td>\n",
       "      <td>0</td>\n",
       "      <td>0</td>\n",
       "      <td>0</td>\n",
       "      <td>1</td>\n",
       "      <td>0</td>\n",
       "      <td>0</td>\n",
       "      <td>1</td>\n",
       "      <td>0</td>\n",
       "      <td>0</td>\n",
       "    </tr>\n",
       "  </tbody>\n",
       "</table>\n",
       "<p>7456 rows × 10 columns</p>\n",
       "</div>"
      ],
      "text/plain": [
       "       author  verified  activity  defaultprofile  userurl  hashtag  tweeturl  \\\n",
       "0     8091533         0         0               1        0        1         0   \n",
       "1      283096         0         0               0        1        1         0   \n",
       "2     1087609         0         0               1        0        1         1   \n",
       "3     8400570         0         0               0        1        1         1   \n",
       "4      252015         0         1               0        1        0         0   \n",
       "...       ...       ...       ...             ...      ...      ...       ...   \n",
       "7451   639211         1         0               1        1        0         0   \n",
       "7452  6244880         0         0               0        0        1         1   \n",
       "7453  1559022         0         0               0        0        0         0   \n",
       "7454  2632615         0         0               1        0        0         0   \n",
       "7455  8994464         0         0               0        1        0         0   \n",
       "\n",
       "      mentions  media  retweets  \n",
       "0            1      0         0  \n",
       "1            1      0         2  \n",
       "2            0      0         0  \n",
       "3            1      0         6  \n",
       "4            0      0        21  \n",
       "...        ...    ...       ...  \n",
       "7451         1      0         5  \n",
       "7452         0      0         1  \n",
       "7453         1      0        14  \n",
       "7454         0      0         0  \n",
       "7455         1      0         0  \n",
       "\n",
       "[7456 rows x 10 columns]"
      ]
     },
     "execution_count": 9,
     "metadata": {},
     "output_type": "execute_result"
    }
   ],
   "source": [
    "pd.read_csv('data/authors_tweets_features_neos.csv')"
   ]
  },
  {
   "cell_type": "markdown",
   "metadata": {},
   "source": [
    "The function `read.tweets` reads such an file and aggregates some selected features we are interested in into a single `author_feature` and a  single `tweet_feature`. In this case, since we only consider binary features, we represent them as  binary strings. Additionally the function translates the author id `author` (corresponding to the original graph) into a node id `source` (index into our sparse matrix)."
   ]
  },
  {
   "cell_type": "code",
   "execution_count": 3,
   "metadata": {},
   "outputs": [
    {
     "data": {
      "text/html": [
       "<div>\n",
       "<style scoped>\n",
       "    .dataframe tbody tr th:only-of-type {\n",
       "        vertical-align: middle;\n",
       "    }\n",
       "\n",
       "    .dataframe tbody tr th {\n",
       "        vertical-align: top;\n",
       "    }\n",
       "\n",
       "    .dataframe thead th {\n",
       "        text-align: right;\n",
       "    }\n",
       "</style>\n",
       "<table border=\"1\" class=\"dataframe\">\n",
       "  <thead>\n",
       "    <tr style=\"text-align: right;\">\n",
       "      <th></th>\n",
       "      <th>source</th>\n",
       "      <th>author_feature</th>\n",
       "      <th>tweet_feature</th>\n",
       "      <th>retweets</th>\n",
       "    </tr>\n",
       "  </thead>\n",
       "  <tbody>\n",
       "    <tr>\n",
       "      <th>0</th>\n",
       "      <td>15193</td>\n",
       "      <td>0010</td>\n",
       "      <td>1010</td>\n",
       "      <td>0</td>\n",
       "    </tr>\n",
       "    <tr>\n",
       "      <th>1</th>\n",
       "      <td>83877</td>\n",
       "      <td>0001</td>\n",
       "      <td>1010</td>\n",
       "      <td>2</td>\n",
       "    </tr>\n",
       "    <tr>\n",
       "      <th>2</th>\n",
       "      <td>39676</td>\n",
       "      <td>0010</td>\n",
       "      <td>1100</td>\n",
       "      <td>0</td>\n",
       "    </tr>\n",
       "    <tr>\n",
       "      <th>3</th>\n",
       "      <td>912617</td>\n",
       "      <td>0001</td>\n",
       "      <td>1110</td>\n",
       "      <td>6</td>\n",
       "    </tr>\n",
       "    <tr>\n",
       "      <th>4</th>\n",
       "      <td>13477</td>\n",
       "      <td>0101</td>\n",
       "      <td>0000</td>\n",
       "      <td>21</td>\n",
       "    </tr>\n",
       "    <tr>\n",
       "      <th>...</th>\n",
       "      <td>...</td>\n",
       "      <td>...</td>\n",
       "      <td>...</td>\n",
       "      <td>...</td>\n",
       "    </tr>\n",
       "    <tr>\n",
       "      <th>7451</th>\n",
       "      <td>48182</td>\n",
       "      <td>1011</td>\n",
       "      <td>0010</td>\n",
       "      <td>5</td>\n",
       "    </tr>\n",
       "    <tr>\n",
       "      <th>7452</th>\n",
       "      <td>886098</td>\n",
       "      <td>0000</td>\n",
       "      <td>1100</td>\n",
       "      <td>1</td>\n",
       "    </tr>\n",
       "    <tr>\n",
       "      <th>7453</th>\n",
       "      <td>39347</td>\n",
       "      <td>0000</td>\n",
       "      <td>0010</td>\n",
       "      <td>14</td>\n",
       "    </tr>\n",
       "    <tr>\n",
       "      <th>7454</th>\n",
       "      <td>12281</td>\n",
       "      <td>0010</td>\n",
       "      <td>0000</td>\n",
       "      <td>0</td>\n",
       "    </tr>\n",
       "    <tr>\n",
       "      <th>7455</th>\n",
       "      <td>120662</td>\n",
       "      <td>0001</td>\n",
       "      <td>0010</td>\n",
       "      <td>0</td>\n",
       "    </tr>\n",
       "  </tbody>\n",
       "</table>\n",
       "<p>7456 rows × 4 columns</p>\n",
       "</div>"
      ],
      "text/plain": [
       "      source author_feature tweet_feature  retweets\n",
       "0      15193           0010          1010         0\n",
       "1      83877           0001          1010         2\n",
       "2      39676           0010          1100         0\n",
       "3     912617           0001          1110         6\n",
       "4      13477           0101          0000        21\n",
       "...      ...            ...           ...       ...\n",
       "7451   48182           1011          0010         5\n",
       "7452  886098           0000          1100         1\n",
       "7453   39347           0000          0010        14\n",
       "7454   12281           0010          0000         0\n",
       "7455  120662           0001          0010         0\n",
       "\n",
       "[7456 rows x 4 columns]"
      ]
     },
     "execution_count": 3,
     "metadata": {},
     "output_type": "execute_result"
    }
   ],
   "source": [
    "tweets = read.tweets('data/sim_features_neos.csv', node_labels)\n",
    "tweets"
   ]
  },
  {
   "cell_type": "markdown",
   "metadata": {},
   "source": [
    "From this we can now calculate statistics for each feature combination.\n",
    "Of particular interest are `tweets` (the total number of tweets) and the before mentioned `retweet_probability` and `mean_retweets`. \n",
    "We also throw away feature classes that are too small (ie. `tweets < min_size`) as they often lead to wrong parameter guesses and erratic behavior in the simulations."
   ]
  },
  {
   "cell_type": "code",
   "execution_count": 4,
   "metadata": {},
   "outputs": [
    {
     "data": {
      "text/html": [
       "<div>\n",
       "<style scoped>\n",
       "    .dataframe tbody tr th:only-of-type {\n",
       "        vertical-align: middle;\n",
       "    }\n",
       "\n",
       "    .dataframe tbody tr th {\n",
       "        vertical-align: top;\n",
       "    }\n",
       "\n",
       "    .dataframe thead th {\n",
       "        text-align: right;\n",
       "    }\n",
       "</style>\n",
       "<table border=\"1\" class=\"dataframe\">\n",
       "  <thead>\n",
       "    <tr style=\"text-align: right;\">\n",
       "      <th></th>\n",
       "      <th></th>\n",
       "      <th>tweets</th>\n",
       "      <th>retweet_probability</th>\n",
       "      <th>mean_retweets</th>\n",
       "      <th>median_retweets</th>\n",
       "      <th>max_retweets</th>\n",
       "    </tr>\n",
       "    <tr>\n",
       "      <th>author_feature</th>\n",
       "      <th>tweet_feature</th>\n",
       "      <th></th>\n",
       "      <th></th>\n",
       "      <th></th>\n",
       "      <th></th>\n",
       "      <th></th>\n",
       "    </tr>\n",
       "  </thead>\n",
       "  <tbody>\n",
       "    <tr>\n",
       "      <th rowspan=\"5\" valign=\"top\">0000</th>\n",
       "      <th>0000</th>\n",
       "      <td>275</td>\n",
       "      <td>0.247273</td>\n",
       "      <td>1.094545</td>\n",
       "      <td>0.0</td>\n",
       "      <td>86</td>\n",
       "    </tr>\n",
       "    <tr>\n",
       "      <th>0001</th>\n",
       "      <td>17</td>\n",
       "      <td>0.235294</td>\n",
       "      <td>1.823529</td>\n",
       "      <td>0.0</td>\n",
       "      <td>21</td>\n",
       "    </tr>\n",
       "    <tr>\n",
       "      <th>0010</th>\n",
       "      <td>221</td>\n",
       "      <td>0.257919</td>\n",
       "      <td>1.687783</td>\n",
       "      <td>0.0</td>\n",
       "      <td>23</td>\n",
       "    </tr>\n",
       "    <tr>\n",
       "      <th>0011</th>\n",
       "      <td>32</td>\n",
       "      <td>0.343750</td>\n",
       "      <td>0.968750</td>\n",
       "      <td>0.0</td>\n",
       "      <td>7</td>\n",
       "    </tr>\n",
       "    <tr>\n",
       "      <th>0100</th>\n",
       "      <td>35</td>\n",
       "      <td>0.114286</td>\n",
       "      <td>1.085714</td>\n",
       "      <td>0.0</td>\n",
       "      <td>28</td>\n",
       "    </tr>\n",
       "    <tr>\n",
       "      <th>...</th>\n",
       "      <th>...</th>\n",
       "      <td>...</td>\n",
       "      <td>...</td>\n",
       "      <td>...</td>\n",
       "      <td>...</td>\n",
       "      <td>...</td>\n",
       "    </tr>\n",
       "    <tr>\n",
       "      <th rowspan=\"5\" valign=\"top\">1101</th>\n",
       "      <th>0111</th>\n",
       "      <td>12</td>\n",
       "      <td>1.000000</td>\n",
       "      <td>8.833333</td>\n",
       "      <td>4.0</td>\n",
       "      <td>33</td>\n",
       "    </tr>\n",
       "    <tr>\n",
       "      <th>1000</th>\n",
       "      <td>11</td>\n",
       "      <td>0.909091</td>\n",
       "      <td>6.090909</td>\n",
       "      <td>4.0</td>\n",
       "      <td>26</td>\n",
       "    </tr>\n",
       "    <tr>\n",
       "      <th>1010</th>\n",
       "      <td>149</td>\n",
       "      <td>0.959732</td>\n",
       "      <td>4.281879</td>\n",
       "      <td>3.0</td>\n",
       "      <td>30</td>\n",
       "    </tr>\n",
       "    <tr>\n",
       "      <th>1011</th>\n",
       "      <td>58</td>\n",
       "      <td>0.948276</td>\n",
       "      <td>5.931034</td>\n",
       "      <td>4.0</td>\n",
       "      <td>44</td>\n",
       "    </tr>\n",
       "    <tr>\n",
       "      <th>1100</th>\n",
       "      <td>12</td>\n",
       "      <td>0.583333</td>\n",
       "      <td>1.083333</td>\n",
       "      <td>1.0</td>\n",
       "      <td>4</td>\n",
       "    </tr>\n",
       "  </tbody>\n",
       "</table>\n",
       "<p>100 rows × 5 columns</p>\n",
       "</div>"
      ],
      "text/plain": [
       "                              tweets  retweet_probability  mean_retweets  \\\n",
       "author_feature tweet_feature                                               \n",
       "0000           0000              275             0.247273       1.094545   \n",
       "               0001               17             0.235294       1.823529   \n",
       "               0010              221             0.257919       1.687783   \n",
       "               0011               32             0.343750       0.968750   \n",
       "               0100               35             0.114286       1.085714   \n",
       "...                              ...                  ...            ...   \n",
       "1101           0111               12             1.000000       8.833333   \n",
       "               1000               11             0.909091       6.090909   \n",
       "               1010              149             0.959732       4.281879   \n",
       "               1011               58             0.948276       5.931034   \n",
       "               1100               12             0.583333       1.083333   \n",
       "\n",
       "                              median_retweets  max_retweets  \n",
       "author_feature tweet_feature                                 \n",
       "0000           0000                       0.0            86  \n",
       "               0001                       0.0            21  \n",
       "               0010                       0.0            23  \n",
       "               0011                       0.0             7  \n",
       "               0100                       0.0            28  \n",
       "...                                       ...           ...  \n",
       "1101           0111                       4.0            33  \n",
       "               1000                       4.0            26  \n",
       "               1010                       3.0            30  \n",
       "               1011                       4.0            44  \n",
       "               1100                       1.0             4  \n",
       "\n",
       "[100 rows x 5 columns]"
      ]
     },
     "execution_count": 4,
     "metadata": {},
     "output_type": "execute_result"
    }
   ],
   "source": [
    "stats = simulation.tweet_statistics(tweets, min_size=10)\n",
    "stats"
   ]
  },
  {
   "cell_type": "code",
   "execution_count": 6,
   "metadata": {},
   "outputs": [],
   "source": [
    "stats.to_csv('stats.csv')"
   ]
  },
  {
   "cell_type": "code",
   "execution_count": 16,
   "metadata": {},
   "outputs": [
    {
     "name": "stdout",
     "output_type": "stream",
     "text": [
      "<class 'pandas.core.frame.DataFrame'>\n",
      "MultiIndex: 100 entries, ('0000', '0000') to ('1101', '1100')\n",
      "Data columns (total 5 columns):\n",
      " #   Column               Non-Null Count  Dtype  \n",
      "---  ------               --------------  -----  \n",
      " 0   tweets               100 non-null    Int64  \n",
      " 1   retweet_probability  100 non-null    float64\n",
      " 2   mean_retweets        100 non-null    float64\n",
      " 3   median_retweets      100 non-null    float64\n",
      " 4   max_retweets         100 non-null    Int64  \n",
      "dtypes: Int64(2), float64(3)\n",
      "memory usage: 4.7+ KB\n"
     ]
    }
   ],
   "source": [
    "s=read.stats('stats.csv')\n",
    "s.info()"
   ]
  },
  {
   "cell_type": "code",
   "execution_count": 17,
   "metadata": {},
   "outputs": [
    {
     "name": "stdout",
     "output_type": "stream",
     "text": [
      "<class 'pandas.core.frame.DataFrame'>\n",
      "MultiIndex: 100 entries, ('0000', '0000') to ('1101', '1100')\n",
      "Data columns (total 5 columns):\n",
      " #   Column               Non-Null Count  Dtype  \n",
      "---  ------               --------------  -----  \n",
      " 0   tweets               100 non-null    Int64  \n",
      " 1   retweet_probability  100 non-null    float64\n",
      " 2   mean_retweets        100 non-null    float64\n",
      " 3   median_retweets      100 non-null    float64\n",
      " 4   max_retweets         100 non-null    Int64  \n",
      "dtypes: Int64(2), float64(3)\n",
      "memory usage: 6.0 KB\n"
     ]
    }
   ],
   "source": []
  },
  {
   "cell_type": "code",
   "execution_count": 45,
   "metadata": {},
   "outputs": [
    {
     "data": {
      "text/plain": [
       "author_feature\n",
       "0000    [0, 0, 0, 0, 0, 0, 0, 0, 0, 0, 0, 0, 0, 0, 0, ...\n",
       "0001    [0, 0, 0, 0, 0, 0, 0, 0, 0, 0, 0, 0, 0, 0, 0, ...\n",
       "0010    [0, 0, 0, 0, 0, 0, 0, 0, 0, 0, 0, 0, 0, 0, 0, ...\n",
       "0011    [0, 0, 0, 0, 0, 0, 0, 0, 0, 0, 0, 0, 0, 0, 0, ...\n",
       "0100    [0, 0, 0, 0, 0, 0, 0, 0, 0, 0, 0, 0, 0, 0, 0, ...\n",
       "0101    [0, 0, 0, 0, 0, 0, 0, 0, 0, 0, 0, 0, 0, 0, 0, ...\n",
       "0110    [0, 0, 0, 0, 0, 0, 0, 0, 0, 0, 0, 0, 0, 0, 0, ...\n",
       "0111    [0, 0, 0, 0, 0, 0, 0, 0, 0, 0, 0, 0, 0, 0, 0, ...\n",
       "1000                       [0, 0, 0, 0, 0, 0, 0, 0, 0, 0]\n",
       "1001    [0, 0, 0, 0, 0, 0, 0, 0, 0, 0, 0, 0, 0, 0, 0, ...\n",
       "1010                                         [0, 0, 0, 0]\n",
       "1011                 [0, 0, 0, 0, 0, 0, 0, 0, 0, 0, 0, 0]\n",
       "1100                                                  [0]\n",
       "1101           [0, 0, 0, 0, 0, 0, 0, 0, 0, 0, 0, 0, 0, 0]\n",
       "Name: source, dtype: object"
      ]
     },
     "execution_count": 45,
     "metadata": {},
     "output_type": "execute_result"
    }
   ],
   "source": [
    "read.save_source_map('sm.csv',source_map)\n",
    "sm=read.source_map('sm.csv')\n",
    "sm-source_map"
   ]
  },
  {
   "cell_type": "markdown",
   "metadata": {
    "pycharm": {
     "name": "#%% md\n"
    }
   },
   "source": [
    "## Creating a Simulation object\n"
   ]
  },
  {
   "cell_type": "code",
   "execution_count": 30,
   "metadata": {},
   "outputs": [
    {
     "ename": "AttributeError",
     "evalue": "module 'pandas' has no attribute '__VERSION__'",
     "output_type": "error",
     "traceback": [
      "\u001B[0;31m---------------------------------------------------------------------------\u001B[0m",
      "\u001B[0;31mAttributeError\u001B[0m                            Traceback (most recent call last)",
      "\u001B[0;32m<ipython-input-30-05ba70bc7313>\u001B[0m in \u001B[0;36m<module>\u001B[0;34m\u001B[0m\n\u001B[0;32m----> 1\u001B[0;31m \u001B[0mpd\u001B[0m\u001B[0;34m.\u001B[0m\u001B[0m__VERSION__\u001B[0m\u001B[0;34m\u001B[0m\u001B[0;34m\u001B[0m\u001B[0m\n\u001B[0m",
      "\u001B[0;32m/usr/local/Caskroom/miniconda/base/envs/propagation/lib/python3.7/site-packages/pandas/__init__.py\u001B[0m in \u001B[0;36m__getattr__\u001B[0;34m(name)\u001B[0m\n\u001B[1;32m    261\u001B[0m             \u001B[0;32mreturn\u001B[0m \u001B[0m_SparseArray\u001B[0m\u001B[0;34m\u001B[0m\u001B[0;34m\u001B[0m\u001B[0m\n\u001B[1;32m    262\u001B[0m \u001B[0;34m\u001B[0m\u001B[0m\n\u001B[0;32m--> 263\u001B[0;31m         \u001B[0;32mraise\u001B[0m \u001B[0mAttributeError\u001B[0m\u001B[0;34m(\u001B[0m\u001B[0;34mf\"module 'pandas' has no attribute '{name}'\"\u001B[0m\u001B[0;34m)\u001B[0m\u001B[0;34m\u001B[0m\u001B[0;34m\u001B[0m\u001B[0m\n\u001B[0m\u001B[1;32m    264\u001B[0m \u001B[0;34m\u001B[0m\u001B[0m\n\u001B[1;32m    265\u001B[0m \u001B[0;34m\u001B[0m\u001B[0m\n",
      "\u001B[0;31mAttributeError\u001B[0m: module 'pandas' has no attribute '__VERSION__'"
     ]
    }
   ],
   "source": [
    "pd"
   ]
  },
  {
   "cell_type": "markdown",
   "metadata": {
    "pycharm": {
     "name": "#%% md\n"
    }
   },
   "source": [
    "The main class is `Simulation`.\n",
    "It needs apart from the graph `A` and the tweet statistics `stats` also a map from author feature to sources with this feature."
   ]
  },
  {
   "cell_type": "code",
   "execution_count": 40,
   "metadata": {},
   "outputs": [
    {
     "data": {
      "text/plain": [
       "author_feature\n",
       "0000    [39347, 142661, 27740, 19276, 17965, 1166242, ...\n",
       "0001    [83877, 912617, 48025, 48430, 332342, 39292, 1...\n",
       "0010    [15193, 39676, 24551, 18773, 28548, 18332, 175...\n",
       "0011    [14793, 14701, 121082, 11142, 13774, 142712, 2...\n",
       "0100    [12791, 21164, 38686, 13229, 14857, 182814, 24...\n",
       "0101    [13477, 332476, 20066, 329203, 210, 23261, 647...\n",
       "0110    [14582, 12881, 10842, 15116, 14887, 39244, 130...\n",
       "0111    [22981, 33044, 140136, 13047, 12204, 59632, 22...\n",
       "1000    [1099157, 48150, 13027, 18412, 12843, 47965, 2...\n",
       "1001    [115695, 28598, 47882, 318076, 142021, 11381, ...\n",
       "1010                      [11370, 144662, 1511476, 20590]\n",
       "1011    [2264839, 6600719, 2412296, 291185, 142193, 27...\n",
       "1100                                             [883368]\n",
       "1101    [47653, 305464, 11645, 20414, 27919, 2970372, ...\n",
       "Name: source, dtype: object"
      ]
     },
     "execution_count": 40,
     "metadata": {},
     "output_type": "execute_result"
    }
   ],
   "source": [
    "source_map = simulation.tweet_sources(tweets)\n",
    "source_map"
   ]
  },
  {
   "cell_type": "code",
   "execution_count": 13,
   "metadata": {},
   "outputs": [],
   "source": [
    "sim = Simulation(A, stats, source_map)"
   ]
  },
  {
   "cell_type": "markdown",
   "metadata": {
    "pycharm": {
     "name": "#%% md\n"
    }
   },
   "source": [
    "We can also directly read a graph together with tweet data. This combines all of the setup we did step by step above."
   ]
  },
  {
   "cell_type": "code",
   "execution_count": 14,
   "metadata": {},
   "outputs": [],
   "source": [
    "sim = Simulation.from_files(graph_file='data/outer_neos.npz', tweet_file='data/authors_tweets_features_neos.csv')"
   ]
  },
  {
   "cell_type": "markdown",
   "metadata": {},
   "source": [
    "## Simulation parameters\n",
    "\n",
    "Of particular interest are the parameters of the simulation.\n",
    "They are initialized to some default values based on the tweet statistics `stats` passed to the constructor."
   ]
  },
  {
   "cell_type": "code",
   "execution_count": 15,
   "metadata": {},
   "outputs": [
    {
     "data": {
      "text/html": [
       "<div>\n",
       "<style scoped>\n",
       "    .dataframe tbody tr th:only-of-type {\n",
       "        vertical-align: middle;\n",
       "    }\n",
       "\n",
       "    .dataframe tbody tr th {\n",
       "        vertical-align: top;\n",
       "    }\n",
       "\n",
       "    .dataframe thead th {\n",
       "        text-align: right;\n",
       "    }\n",
       "</style>\n",
       "<table border=\"1\" class=\"dataframe\">\n",
       "  <thead>\n",
       "    <tr style=\"text-align: right;\">\n",
       "      <th></th>\n",
       "      <th></th>\n",
       "      <th>freq</th>\n",
       "      <th>edge_probability</th>\n",
       "      <th>discount_factor</th>\n",
       "      <th>max_nodes</th>\n",
       "      <th>depth</th>\n",
       "    </tr>\n",
       "    <tr>\n",
       "      <th>author_feature</th>\n",
       "      <th>tweet_feature</th>\n",
       "      <th></th>\n",
       "      <th></th>\n",
       "      <th></th>\n",
       "      <th></th>\n",
       "      <th></th>\n",
       "    </tr>\n",
       "  </thead>\n",
       "  <tbody>\n",
       "    <tr>\n",
       "      <th rowspan=\"5\" valign=\"top\">0000</th>\n",
       "      <th>0000</th>\n",
       "      <td>0.038073</td>\n",
       "      <td>0.000584</td>\n",
       "      <td>1.0</td>\n",
       "      <td>8600</td>\n",
       "      <td>10</td>\n",
       "    </tr>\n",
       "    <tr>\n",
       "      <th>0001</th>\n",
       "      <td>0.002354</td>\n",
       "      <td>0.000538</td>\n",
       "      <td>1.0</td>\n",
       "      <td>2100</td>\n",
       "      <td>10</td>\n",
       "    </tr>\n",
       "    <tr>\n",
       "      <th>0010</th>\n",
       "      <td>0.030597</td>\n",
       "      <td>0.000622</td>\n",
       "      <td>1.0</td>\n",
       "      <td>2300</td>\n",
       "      <td>10</td>\n",
       "    </tr>\n",
       "    <tr>\n",
       "      <th>0011</th>\n",
       "      <td>0.004430</td>\n",
       "      <td>0.001026</td>\n",
       "      <td>1.0</td>\n",
       "      <td>700</td>\n",
       "      <td>10</td>\n",
       "    </tr>\n",
       "    <tr>\n",
       "      <th>0100</th>\n",
       "      <td>0.004846</td>\n",
       "      <td>0.000195</td>\n",
       "      <td>1.0</td>\n",
       "      <td>2800</td>\n",
       "      <td>10</td>\n",
       "    </tr>\n",
       "    <tr>\n",
       "      <th>...</th>\n",
       "      <th>...</th>\n",
       "      <td>...</td>\n",
       "      <td>...</td>\n",
       "      <td>...</td>\n",
       "      <td>...</td>\n",
       "      <td>...</td>\n",
       "    </tr>\n",
       "    <tr>\n",
       "      <th rowspan=\"5\" valign=\"top\">1101</th>\n",
       "      <th>0111</th>\n",
       "      <td>0.001661</td>\n",
       "      <td>0.007969</td>\n",
       "      <td>1.0</td>\n",
       "      <td>3300</td>\n",
       "      <td>10</td>\n",
       "    </tr>\n",
       "    <tr>\n",
       "      <th>1000</th>\n",
       "      <td>0.001523</td>\n",
       "      <td>0.000126</td>\n",
       "      <td>1.0</td>\n",
       "      <td>2600</td>\n",
       "      <td>10</td>\n",
       "    </tr>\n",
       "    <tr>\n",
       "      <th>1010</th>\n",
       "      <td>0.020629</td>\n",
       "      <td>0.000240</td>\n",
       "      <td>1.0</td>\n",
       "      <td>3000</td>\n",
       "      <td>10</td>\n",
       "    </tr>\n",
       "    <tr>\n",
       "      <th>1011</th>\n",
       "      <td>0.008030</td>\n",
       "      <td>0.000202</td>\n",
       "      <td>1.0</td>\n",
       "      <td>4400</td>\n",
       "      <td>10</td>\n",
       "    </tr>\n",
       "    <tr>\n",
       "      <th>1100</th>\n",
       "      <td>0.001661</td>\n",
       "      <td>0.000019</td>\n",
       "      <td>1.0</td>\n",
       "      <td>400</td>\n",
       "      <td>10</td>\n",
       "    </tr>\n",
       "  </tbody>\n",
       "</table>\n",
       "<p>100 rows × 5 columns</p>\n",
       "</div>"
      ],
      "text/plain": [
       "                                  freq  edge_probability  discount_factor  \\\n",
       "author_feature tweet_feature                                                \n",
       "0000           0000           0.038073          0.000584              1.0   \n",
       "               0001           0.002354          0.000538              1.0   \n",
       "               0010           0.030597          0.000622              1.0   \n",
       "               0011           0.004430          0.001026              1.0   \n",
       "               0100           0.004846          0.000195              1.0   \n",
       "...                                ...               ...              ...   \n",
       "1101           0111           0.001661          0.007969              1.0   \n",
       "               1000           0.001523          0.000126              1.0   \n",
       "               1010           0.020629          0.000240              1.0   \n",
       "               1011           0.008030          0.000202              1.0   \n",
       "               1100           0.001661          0.000019              1.0   \n",
       "\n",
       "                              max_nodes  depth  \n",
       "author_feature tweet_feature                    \n",
       "0000           0000                8600     10  \n",
       "               0001                2100     10  \n",
       "               0010                2300     10  \n",
       "               0011                 700     10  \n",
       "               0100                2800     10  \n",
       "...                                 ...    ...  \n",
       "1101           0111                3300     10  \n",
       "               1000                2600     10  \n",
       "               1010                3000     10  \n",
       "               1011                4400     10  \n",
       "               1100                 400     10  \n",
       "\n",
       "[100 rows x 5 columns]"
      ]
     },
     "execution_count": 15,
     "metadata": {},
     "output_type": "execute_result"
    }
   ],
   "source": [
    "sim.params"
   ]
  },
  {
   "cell_type": "markdown",
   "metadata": {},
   "source": [
    "First, `freq` is the relative frequency of each feature class.\n",
    "It is used to generate samples of feature combinations and initialized to the relative frequencies of tweets in `stats`.\n",
    "We can sample tweets, or rather their corresponding features like this:"
   ]
  },
  {
   "cell_type": "code",
   "execution_count": 16,
   "metadata": {},
   "outputs": [
    {
     "data": {
      "text/plain": [
       "array([('0000', '1000'), ('0000', '0010'), ('0000', '1010')], dtype=object)"
      ]
     },
     "execution_count": 16,
     "metadata": {},
     "output_type": "execute_result"
    }
   ],
   "source": [
    "sim.sample_feature(size=3)"
   ]
  },
  {
   "cell_type": "markdown",
   "metadata": {},
   "source": [
    "Currently, we assume that all sources with the same author feature behave the identically, and in particular are equally likely to tweet with a given feature.\n",
    "Therefore we draw the source(s) for a given feature from a uniform distribution. "
   ]
  },
  {
   "cell_type": "code",
   "execution_count": 17,
   "metadata": {
    "pycharm": {
     "name": "#%%\n"
    }
   },
   "outputs": [
    {
     "data": {
      "text/plain": [
       "array([182, 11718, 83877, 2292611, 2314634, 45241, 119763, 87578, 1424914,\n",
       "       64312, 905922, 927251, 46550, 44927, 307258], dtype=object)"
      ]
     },
     "execution_count": 17,
     "metadata": {},
     "output_type": "execute_result"
    }
   ],
   "source": [
    "author_feature, tweet_feature = sim.sample_feature() # == sim.sample_feature(1)[0]\n",
    "sim.sample_source(author_feature, size=15)"
   ]
  },
  {
   "cell_type": "markdown",
   "metadata": {},
   "source": [
    "Next are the parameters for the the message propagation we saw above (`edge_probability`, `discount_factor`,  \t`max_retweets` and `depth`).\n",
    "\n",
    "In the current code we use a constant `depth` of 10 and set `max_nodes` to `100 * max_retweets`.\n",
    "This is mainly for performance reasons to avoid overly long running simulations that explore the whole graph.\n",
    "\n",
    "Regarding the remaining, and most curcial parameters, our current approach is to first find the `edge_probability` according to `retweet_probability` and then the `discount_factor` according to `mean_retweets`.\n",
    "In both cases we use a simple binary search to find the optimal parameter value.\n",
    "\n",
    "### Calculating Edge probability\n",
    "\n",
    "In the case of the `retweet_probability` this is easy, since it only depends on the out-degree of the source nodes.\n",
    "Given edge probability $p$, the probability that a message from source $s$ is retweeted is  $1-(1-p)^{\\delta^-(s)}$.\n",
    "Since we assume a uniform source distribution the retweet probability for a features combination with set of sources $S$ is $$\\sum_{s \\in S} \\frac{1}{|S|}1-(1-p)^{\\delta^-(s)} $$\n",
    "This means we can directly compute the retweet probability for a given edge probability, and could even calculate the edge probability from the retweet probability analytically instead of using binary search.\n",
    "But this is fast enough anyway and therefore also done by `Simulation` on initialization.\n",
    "The function for the formula above is `simulation.calculate_retweet_probability`. Note that `calculate_retweet_probability(A, sources, p)` is the expected value of `simulate(A, sources, depth=1)`."
   ]
  },
  {
   "cell_type": "code",
   "execution_count": 18,
   "metadata": {
    "pycharm": {
     "name": "#%%\n"
    }
   },
   "outputs": [
    {
     "data": {
      "text/plain": [
       "-0.0005515427337398071"
      ]
     },
     "execution_count": 18,
     "metadata": {},
     "output_type": "execute_result"
    }
   ],
   "source": [
    "feature = ('0000','0001')\n",
    "p = sim.params.loc[feature,'edge_probability']\n",
    "retweet_probability = sim.stats.loc[feature, 'retweet_probability']\n",
    "\n",
    "simulation.calculate_retweet_probability(A, sim.sources['0000'], p) - retweet_probability"
   ]
  },
  {
   "cell_type": "markdown",
   "metadata": {},
   "source": [
    "If a higher accuracy or different source sets are required one can redo the calculation after the initialization."
   ]
  },
  {
   "cell_type": "code",
   "execution_count": 19,
   "metadata": {},
   "outputs": [
    {
     "data": {
      "text/plain": [
       "(0000, 0001)    0.000065\n",
       "dtype: float64"
      ]
     },
     "execution_count": 19,
     "metadata": {},
     "output_type": "execute_result"
    }
   ],
   "source": [
    "# recalculate with higher precision (compare by rerunning above cell)\n",
    "sim.params['edge_probability'] = sim.edge_probability_from_retweet_probability(eps=1e-10)\n",
    "\n",
    "sim.edge_probability_from_retweet_probability(features=[('0000','0001')], sources=sim.sources['0101'])"
   ]
  },
  {
   "cell_type": "markdown",
   "metadata": {},
   "source": [
    "### Finding the discount factor\n",
    "\n",
    "We use essentially the same approch to find the discount factor from the mean retweets.\n",
    "The big difference is that we cannnot calculate the expected retweets analytically (as we could with the retweet probability), but have to rely on our (Monte Carlo) simulations.\n",
    "This poses problems for the binary search, since we need to avoid taking the wrong branch due randomness.\n",
    "We need too ensure that we have enough samples, otherwise the results will be meaningless."
   ]
  },
  {
   "cell_type": "code",
   "execution_count": 20,
   "metadata": {},
   "outputs": [
    {
     "name": "stdout",
     "output_type": "stream",
     "text": [
      "1.0755395683453237\n",
      "f(0.5)=0.946755829903978<1.0755395683453237 [0,1]\n",
      "f(0.75)=1.1705157750342936>1.0755395683453237 [0.5,1]\n",
      "f(0.625)=1.0444375857338821<1.0755395683453237 [0.5,0.75]\n",
      "f(0.6875)="
     ]
    },
    {
     "name": "stderr",
     "output_type": "stream",
     "text": [
      "\n",
      "  discount_factor_from_mean_retweets (/Users/ian/src/propagation/simulation.py:172):\n",
      "    170.427 seconds\n",
      "\n"
     ]
    },
    {
     "name": "stdout",
     "output_type": "stream",
     "text": [
      "1.1171865569272976>1.0755395683453237 [0.625,0.75]\n"
     ]
    },
    {
     "data": {
      "text/plain": [
       "(0010, 0010)    0.65625\n",
       "dtype: float64"
      ]
     },
     "execution_count": 20,
     "metadata": {},
     "output_type": "execute_result"
    }
   ],
   "source": [
    "feature = ('0010', '0010')\n",
    "print(sim.stats.loc[feature, 'mean_retweets'])\n",
    "\n",
    "discount = sim.discount_factor_from_mean_retweets(samples=1000, eps=0.1, features=[feature])\n",
    "discount"
   ]
  },
  {
   "cell_type": "code",
   "execution_count": 34,
   "metadata": {},
   "outputs": [
    {
     "data": {
      "text/plain": [
       "(1.123347050754458, 0.27060356652949247)"
      ]
     },
     "execution_count": 34,
     "metadata": {},
     "output_type": "execute_result"
    }
   ],
   "source": [
    "sim.params.discount_factor.update(discount)\n",
    "sim.simulate(feature=feature, samples=100)"
   ]
  },
  {
   "cell_type": "markdown",
   "metadata": {},
   "source": [
    "## Parallelization\n",
    "\n",
    "Since every call to `edge_propagate` is completely independent from any other, the simulation itself (though not the complete parameter search) is embarrasingly parallel.\n",
    "The class `Simulation` has an attribute `simulator` that holds the function it calls for each simulation.\n",
    "It defaults to `propagation.simulate` which we saw above, but it can be set (either upon construction or afterwards)\n",
    "to a different implementation that allows parallel execution.\n",
    "\n",
    "The module `parallel` contains two such implementations.\n",
    "Here we focus on `ray_simulator()` which is based on https://ray.io and supports both clusters and shared memory machines.\n",
    "(The other one, based on `multiprocessing.pool`, is rather inflexible and only insignificantly faster on shared memory.)\n",
    "\n",
    "At the moment we only distribute the sources, so all samples for a particular source are handled by the same process."
   ]
  },
  {
   "cell_type": "code",
   "execution_count": 38,
   "metadata": {},
   "outputs": [
    {
     "name": "stdout",
     "output_type": "stream",
     "text": [
      "The slowest run took 4.78 times longer than the fastest. This could mean that an intermediate result is being cached.\n",
      "1.79 s ± 1.14 s per loop (mean ± std. dev. of 7 runs, 1 loop each)\n"
     ]
    }
   ],
   "source": [
    "sim.simulator = propagation.simulate\n",
    "%timeit sim.simulate(feature=('0000','0000'), sources=20, samples=1000)"
   ]
  },
  {
   "cell_type": "code",
   "execution_count": 39,
   "metadata": {},
   "outputs": [
    {
     "name": "stderr",
     "output_type": "stream",
     "text": [
      "2020-05-04 02:00:30,858\tINFO resource_spec.py:204 -- Starting Ray with 5.47 GiB memory available for workers and up to 2.74 GiB for objects. You can adjust these settings with ray.init(memory=<bytes>, object_store_memory=<bytes>).\n",
      "2020-05-04 02:00:32,316\tINFO services.py:1146 -- View the Ray dashboard at \u001B[1m\u001B[32mlocalhost:8265\u001B[39m\u001B[22m\n"
     ]
    }
   ],
   "source": [
    "sim.simulator = parallel.ray_simulator()"
   ]
  },
  {
   "cell_type": "code",
   "execution_count": 43,
   "metadata": {},
   "outputs": [
    {
     "name": "stdout",
     "output_type": "stream",
     "text": [
      "867 ms ± 367 ms per loop (mean ± std. dev. of 7 runs, 1 loop each)\n"
     ]
    }
   ],
   "source": [
    "%timeit sim.simulate(feature=('0000','0000'), sources=20, samples=1000)"
   ]
  },
  {
   "cell_type": "code",
   "execution_count": 44,
   "metadata": {},
   "outputs": [
    {
     "data": {
      "text/plain": [
       "(2.3012048192771086, 0.39759036144578314)"
      ]
     },
     "execution_count": 44,
     "metadata": {},
     "output_type": "execute_result"
    }
   ],
   "source": [
    "sim.simulate(sim.sample_feature())"
   ]
  }
 ],
 "metadata": {
  "kernelspec": {
   "display_name": "Python 3",
   "language": "python",
   "name": "python3"
  },
  "language_info": {
   "codemirror_mode": {
    "name": "ipython",
    "version": 3
   },
   "file_extension": ".py",
   "mimetype": "text/x-python",
   "name": "python",
   "nbconvert_exporter": "python",
   "pygments_lexer": "ipython3",
   "version": "3.7.7"
  }
 },
 "nbformat": 4,
 "nbformat_minor": 4
}