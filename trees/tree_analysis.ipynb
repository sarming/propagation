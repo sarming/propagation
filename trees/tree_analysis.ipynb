{
 "cells": [
  {
   "cell_type": "code",
   "execution_count": 1,
   "id": "9acba88b-2219-4587-94ba-3b1626b71cd7",
   "metadata": {},
   "outputs": [],
   "source": [
    "import ast\n",
    "import pandas as pd\n",
    "import numpy as np\n",
    "import scipy as sp\n",
    "import scipy.sparse\n"
   ]
  },
  {
   "cell_type": "code",
   "execution_count": 2,
   "id": "e44d9ae3",
   "metadata": {},
   "outputs": [],
   "source": [
    "import io\n",
    "from contextlib import contextmanager\n",
    "\n",
    "\n",
    "@contextmanager\n",
    "def quote_brackets(filename):\n",
    "    with open(filename) as f:\n",
    "        yield io.StringIO(f.read().replace('[','\"[').replace(']',']\"'))\n",
    "\n",
    "def combine_features(df):\n",
    "    def str_cat_df(df,cols):\n",
    "        series = (df[c] for c in cols)\n",
    "        series = list(map(lambda x: x.apply(str), series))\n",
    "        return series[0].str.cat(series[1:]).astype('category')\n",
    "    \n",
    "    author_features=['verified', 'activity', 'defaultprofile', 'userurl']\n",
    "    tweet_features=['hashtag', 'tweeturl', 'mentions', 'media']\n",
    "    \n",
    "    df.insert(0,'author_feature',str_cat_df(df, author_features))\n",
    "    df.insert(1,'tweet_feature',str_cat_df(df, tweet_features))\n",
    "    \n",
    "    df.drop(columns=author_features, inplace=True)\n",
    "    df.drop(columns=tweet_features, inplace=True)\n",
    "\n",
    "def normalize_level_column(colname):\n",
    "    if colname.startswith('level'):\n",
    "        return int(colname.removeprefix('level'))\n",
    "    try:\n",
    "        return int(colname)\n",
    "    except ValueError:\n",
    "        return colname\n",
    "    \n",
    "def normalized_csv(oldfile, newfile=None, numlevels=11):\n",
    "    df = pd.read_csv(oldfile, dtype={'author_feature':'str','tweet_feature':'str'})\n",
    "    if 'author_feature' not in df:\n",
    "        combine_features(df)\n",
    "    df.rename(mapper=normalize_level_column, axis=1, inplace=True)\n",
    "    df.drop(columns=['author','tree','retweets',0], inplace=True, errors='ignore')\n",
    "    for l in range(1,numlevels):\n",
    "        if l not in df:\n",
    "            df[l]=0\n",
    "    if newfile is not None:\n",
    "        df.to_csv(newfile, index=False)\n",
    "    return df\n",
    "\n",
    "def by_feature(df):\n",
    "    df=df.groupby(['author_feature', 'tweet_feature']).agg(['sum','mean',list])\n",
    "    return df.dropna().swaplevel(axis=1).sort_index(axis=1)\n",
    "\n",
    "def retweeted_by_feature(df):\n",
    "    return by_feature(df[df.max(numeric_only=True, axis=1)>1])\n"
   ]
  },
  {
   "cell_type": "code",
   "execution_count": 3,
   "id": "4e2c41ee",
   "metadata": {},
   "outputs": [],
   "source": [
    "with quote_brackets('vegan_20210729_analysed.csv') as f:\n",
    "    vegan_a=normalized_csv(f, 'vegan_analyzed.csv')\n",
    "    \n",
    "fpoe_a=normalized_csv('fpoeanalysed.csv','fpoe_analyzed.csv')\n",
    "neos_a=normalized_csv('neos_20210729_analysed.csv','neos_analyzed.csv')"
   ]
  },
  {
   "cell_type": "code",
   "execution_count": 4,
   "id": "8996016e",
   "metadata": {},
   "outputs": [],
   "source": [
    "fpoe_g=normalized_csv('fpoe_generated.csv')\n",
    "fpoe_p=normalized_csv('fpoe_with_params.csv')\n",
    "neos_g=normalized_csv('neos_generated.csv')\n",
    "neos_p=normalized_csv('neos_with_params.csv')"
   ]
  },
  {
   "cell_type": "code",
   "execution_count": 5,
   "id": "8c1c6b96-fe04-4ff8-8384-5637d390c1fb",
   "metadata": {},
   "outputs": [],
   "source": [
    "rfpoe_a=retweeted_by_feature(fpoe_a)\n",
    "rneos_a=retweeted_by_feature(neos_a)\n",
    "rfpoe_g=retweeted_by_feature(fpoe_g)\n",
    "rfpoe_p=retweeted_by_feature(fpoe_p)\n",
    "rneos_g=retweeted_by_feature(neos_g)\n",
    "rneos_p=retweeted_by_feature(neos_p)"
   ]
  },
  {
   "cell_type": "code",
   "execution_count": 6,
   "id": "41012a8b-7756-49c8-8841-f48969a44352",
   "metadata": {},
   "outputs": [],
   "source": [
    "fpoe_a=by_feature(fpoe_a)\n",
    "neos_a=by_feature(neos_a)\n",
    "fpoe_g=by_feature(fpoe_g)\n",
    "fpoe_p=by_feature(fpoe_p)\n",
    "neos_g=by_feature(neos_g)\n",
    "neos_p=by_feature(neos_p)\n"
   ]
  },
  {
   "cell_type": "code",
   "execution_count": 7,
   "id": "8596bf8a",
   "metadata": {
    "scrolled": true
   },
   "outputs": [],
   "source": [
    "import scipy.stats\n",
    "\n",
    "def observed_levels(df):\n",
    "    \"\"\"Return list of level observations per feature vector.\"\"\"\n",
    "    df=df['sum']\n",
    "    return df.apply(lambda x: [l for c in df.columns for l in [c]*x[c]], axis=1)\n",
    "\n",
    "def observed_levels_distance(a, b, distance=scipy.stats.wasserstein_distance):\n",
    "    df=pd.DataFrame({'a':observed_levels(a), 'b':observed_levels(b)}).dropna()\n",
    "    return df.apply(lambda x:distance(*x),axis=1)\n",
    "\n",
    "def mean_levels_distance(a, b, distance=scipy.stats.wasserstein_distance):\n",
    "    df=pd.concat([a['mean'],b['mean']],keys=['a','b'],axis=1).dropna()\n",
    "    columns=a['mean'].columns\n",
    "    return df.apply(lambda x: distance(columns,columns,x['a'],x['b']),axis=1)\n",
    "\n",
    "#mean_levels_distance(fpoe_a,fpoe_p).mean()\n",
    "#observed_levels_distance(fpoe_a,fpoe_p).mean()\n",
    "#len(observed_levels(fpoe_a)[('0000','0000')])\n",
    "\n",
    "def mean_error(a, b):\n",
    "    return (a['mean'] - b['mean']).dropna().mean(axis=1)\n",
    "\n",
    "def mean_absolute_error(a, b):\n",
    "    return (a['mean'] - b['mean']).dropna().abs().mean(axis=1)\n",
    "\n",
    "\n",
    "def compare(a,b):\n",
    "    m=mean_error(a,b)\n",
    "    ma=mean_absolute_error(a,b)\n",
    "    return {'mamem':m.abs().mean(),\n",
    "            'mmaem':ma.mean(),\n",
    "            'mmem':m.mean(),\n",
    "            # 'mywasserstein_levels': observed_levels_distance(a,b, lambda u,v:wasserstein_2d(np.array([u]).transpose(),np.array([v]).transpose())).mean(),\n",
    "            'mwasserstein_levels': mean_levels_distance(a,b, scipy.stats.wasserstein_distance).mean(),\n",
    "            'menergy_levels': mean_levels_distance(a,b, scipy.stats.energy_distance).mean()\n",
    "           }\n",
    "\n",
    "def table(analyzed, without_params, with_params):\n",
    "    return pd.DataFrame([compare(analyzed,without_params),compare(analyzed,with_params)],index=['without params', 'with params'])"
   ]
  },
  {
   "cell_type": "code",
   "execution_count": 8,
   "id": "ca307f86",
   "metadata": {},
   "outputs": [
    {
     "data": {
      "text/html": [
       "<div>\n",
       "<style scoped>\n",
       "    .dataframe tbody tr th:only-of-type {\n",
       "        vertical-align: middle;\n",
       "    }\n",
       "\n",
       "    .dataframe tbody tr th {\n",
       "        vertical-align: top;\n",
       "    }\n",
       "\n",
       "    .dataframe thead th {\n",
       "        text-align: right;\n",
       "    }\n",
       "</style>\n",
       "<table border=\"1\" class=\"dataframe\">\n",
       "  <thead>\n",
       "    <tr style=\"text-align: right;\">\n",
       "      <th></th>\n",
       "      <th>mamem</th>\n",
       "      <th>mmaem</th>\n",
       "      <th>mmem</th>\n",
       "      <th>mwasserstein_levels</th>\n",
       "      <th>menergy_levels</th>\n",
       "    </tr>\n",
       "  </thead>\n",
       "  <tbody>\n",
       "    <tr>\n",
       "      <th>without params</th>\n",
       "      <td>0.704789</td>\n",
       "      <td>0.717423</td>\n",
       "      <td>0.665919</td>\n",
       "      <td>0.553836</td>\n",
       "      <td>0.536790</td>\n",
       "    </tr>\n",
       "    <tr>\n",
       "      <th>with params</th>\n",
       "      <td>0.357630</td>\n",
       "      <td>0.555201</td>\n",
       "      <td>0.251749</td>\n",
       "      <td>0.524343</td>\n",
       "      <td>0.528336</td>\n",
       "    </tr>\n",
       "  </tbody>\n",
       "</table>\n",
       "</div>"
      ],
      "text/plain": [
       "                   mamem     mmaem      mmem  mwasserstein_levels  \\\n",
       "without params  0.704789  0.717423  0.665919             0.553836   \n",
       "with params     0.357630  0.555201  0.251749             0.524343   \n",
       "\n",
       "                menergy_levels  \n",
       "without params        0.536790  \n",
       "with params           0.528336  "
      ]
     },
     "execution_count": 8,
     "metadata": {},
     "output_type": "execute_result"
    }
   ],
   "source": [
    "table(fpoe_a,fpoe_g,fpoe_p) "
   ]
  },
  {
   "cell_type": "code",
   "execution_count": 9,
   "id": "353107a1-f04e-4ae8-b4dc-0e799f529b74",
   "metadata": {},
   "outputs": [
    {
     "data": {
      "text/html": [
       "<div>\n",
       "<style scoped>\n",
       "    .dataframe tbody tr th:only-of-type {\n",
       "        vertical-align: middle;\n",
       "    }\n",
       "\n",
       "    .dataframe tbody tr th {\n",
       "        vertical-align: top;\n",
       "    }\n",
       "\n",
       "    .dataframe thead th {\n",
       "        text-align: right;\n",
       "    }\n",
       "</style>\n",
       "<table border=\"1\" class=\"dataframe\">\n",
       "  <thead>\n",
       "    <tr style=\"text-align: right;\">\n",
       "      <th></th>\n",
       "      <th>mamem</th>\n",
       "      <th>mmaem</th>\n",
       "      <th>mmem</th>\n",
       "      <th>mwasserstein_levels</th>\n",
       "      <th>menergy_levels</th>\n",
       "    </tr>\n",
       "  </thead>\n",
       "  <tbody>\n",
       "    <tr>\n",
       "      <th>without params</th>\n",
       "      <td>0.998231</td>\n",
       "      <td>1.018543</td>\n",
       "      <td>0.959427</td>\n",
       "      <td>0.556859</td>\n",
       "      <td>0.530400</td>\n",
       "    </tr>\n",
       "    <tr>\n",
       "      <th>with params</th>\n",
       "      <td>0.462968</td>\n",
       "      <td>0.983141</td>\n",
       "      <td>0.001188</td>\n",
       "      <td>0.569510</td>\n",
       "      <td>0.572886</td>\n",
       "    </tr>\n",
       "  </tbody>\n",
       "</table>\n",
       "</div>"
      ],
      "text/plain": [
       "                   mamem     mmaem      mmem  mwasserstein_levels  \\\n",
       "without params  0.998231  1.018543  0.959427             0.556859   \n",
       "with params     0.462968  0.983141  0.001188             0.569510   \n",
       "\n",
       "                menergy_levels  \n",
       "without params        0.530400  \n",
       "with params           0.572886  "
      ]
     },
     "execution_count": 9,
     "metadata": {},
     "output_type": "execute_result"
    }
   ],
   "source": [
    "table(rfpoe_a,rfpoe_g,rfpoe_p) "
   ]
  },
  {
   "cell_type": "code",
   "execution_count": 10,
   "id": "bb4012f8-0776-497f-b839-6280d506c199",
   "metadata": {},
   "outputs": [
    {
     "data": {
      "text/html": [
       "<div>\n",
       "<style scoped>\n",
       "    .dataframe tbody tr th:only-of-type {\n",
       "        vertical-align: middle;\n",
       "    }\n",
       "\n",
       "    .dataframe tbody tr th {\n",
       "        vertical-align: top;\n",
       "    }\n",
       "\n",
       "    .dataframe thead th {\n",
       "        text-align: right;\n",
       "    }\n",
       "</style>\n",
       "<table border=\"1\" class=\"dataframe\">\n",
       "  <thead>\n",
       "    <tr style=\"text-align: right;\">\n",
       "      <th></th>\n",
       "      <th>mamem</th>\n",
       "      <th>mmaem</th>\n",
       "      <th>mmem</th>\n",
       "      <th>mwasserstein_levels</th>\n",
       "      <th>menergy_levels</th>\n",
       "    </tr>\n",
       "  </thead>\n",
       "  <tbody>\n",
       "    <tr>\n",
       "      <th>without params</th>\n",
       "      <td>0.562800</td>\n",
       "      <td>0.571218</td>\n",
       "      <td>0.463697</td>\n",
       "      <td>0.448518</td>\n",
       "      <td>0.457164</td>\n",
       "    </tr>\n",
       "    <tr>\n",
       "      <th>with params</th>\n",
       "      <td>0.308064</td>\n",
       "      <td>0.426988</td>\n",
       "      <td>0.220152</td>\n",
       "      <td>0.411395</td>\n",
       "      <td>0.430974</td>\n",
       "    </tr>\n",
       "  </tbody>\n",
       "</table>\n",
       "</div>"
      ],
      "text/plain": [
       "                   mamem     mmaem      mmem  mwasserstein_levels  \\\n",
       "without params  0.562800  0.571218  0.463697             0.448518   \n",
       "with params     0.308064  0.426988  0.220152             0.411395   \n",
       "\n",
       "                menergy_levels  \n",
       "without params        0.457164  \n",
       "with params           0.430974  "
      ]
     },
     "execution_count": 10,
     "metadata": {},
     "output_type": "execute_result"
    }
   ],
   "source": [
    "table(neos_a, neos_g, neos_p)"
   ]
  },
  {
   "cell_type": "code",
   "execution_count": 11,
   "id": "867b413f",
   "metadata": {},
   "outputs": [
    {
     "data": {
      "text/html": [
       "<div>\n",
       "<style scoped>\n",
       "    .dataframe tbody tr th:only-of-type {\n",
       "        vertical-align: middle;\n",
       "    }\n",
       "\n",
       "    .dataframe tbody tr th {\n",
       "        vertical-align: top;\n",
       "    }\n",
       "\n",
       "    .dataframe thead th {\n",
       "        text-align: right;\n",
       "    }\n",
       "</style>\n",
       "<table border=\"1\" class=\"dataframe\">\n",
       "  <thead>\n",
       "    <tr style=\"text-align: right;\">\n",
       "      <th></th>\n",
       "      <th>mamem</th>\n",
       "      <th>mmaem</th>\n",
       "      <th>mmem</th>\n",
       "      <th>mwasserstein_levels</th>\n",
       "      <th>menergy_levels</th>\n",
       "    </tr>\n",
       "  </thead>\n",
       "  <tbody>\n",
       "    <tr>\n",
       "      <th>without params</th>\n",
       "      <td>0.752935</td>\n",
       "      <td>0.773736</td>\n",
       "      <td>0.652110</td>\n",
       "      <td>0.443173</td>\n",
       "      <td>0.441352</td>\n",
       "    </tr>\n",
       "    <tr>\n",
       "      <th>with params</th>\n",
       "      <td>0.375539</td>\n",
       "      <td>0.750151</td>\n",
       "      <td>-0.010862</td>\n",
       "      <td>0.431692</td>\n",
       "      <td>0.448682</td>\n",
       "    </tr>\n",
       "  </tbody>\n",
       "</table>\n",
       "</div>"
      ],
      "text/plain": [
       "                   mamem     mmaem      mmem  mwasserstein_levels  \\\n",
       "without params  0.752935  0.773736  0.652110             0.443173   \n",
       "with params     0.375539  0.750151 -0.010862             0.431692   \n",
       "\n",
       "                menergy_levels  \n",
       "without params        0.441352  \n",
       "with params           0.448682  "
      ]
     },
     "execution_count": 11,
     "metadata": {},
     "output_type": "execute_result"
    }
   ],
   "source": [
    "table(rneos_a, rneos_g, rneos_p)   "
   ]
  },
  {
   "cell_type": "code",
   "execution_count": 12,
   "id": "56468824",
   "metadata": {
    "scrolled": true
   },
   "outputs": [
    {
     "data": {
      "text/plain": [
       "author_feature  tweet_feature\n",
       "0000            0000             361.613762\n",
       "                0001              41.596804\n",
       "                0010             139.113642\n",
       "                0011              84.855543\n",
       "                0100             173.800757\n",
       "                                    ...    \n",
       "1101            1000             243.124999\n",
       "                1001              28.751161\n",
       "                1010              30.694276\n",
       "                1100             126.329168\n",
       "                1110              17.302548\n",
       "Length: 131, dtype: float64"
      ]
     },
     "execution_count": 12,
     "metadata": {},
     "output_type": "execute_result"
    }
   ],
   "source": [
    "# https://stackoverflow.com/a/57563383/\n",
    "from scipy.spatial.distance import cdist\n",
    "from scipy.optimize import linear_sum_assignment\n",
    "\n",
    "def wasserstein_2d(U,V, normalize=True):\n",
    "    if normalize:\n",
    "        U = U#/U.shape[0]#U.sum().sum()\n",
    "        V = V#/V.shape[0]#V.sum().sum()\n",
    "    d = cdist(U,V)\n",
    "    # display(d)\n",
    "\n",
    "    assignment = linear_sum_assignment(d)\n",
    "    return d[assignment].sum()#/(U.sum().sum()+V.sum().sum())\n",
    "\n",
    "def wasserstein_2d_row_ab(row, normalize=False):\n",
    "    a=np.array(row['a'].to_list()).transpose()\n",
    "    b=np.array(row['b'].to_list()).transpose()\n",
    "    return wasserstein_2d(a,b,normalize)\n",
    "\n",
    "def wasserstein_2d_df(a,b,normalize=False):\n",
    "    a=a['list']\n",
    "    b=b['list']\n",
    "#     a=pd.Series([observed_levels(a)])\n",
    "#     b=pd.Series([observed_levels(b)])\n",
    "    df=pd.concat([a,b], keys=['a','b'], axis=1).dropna()\n",
    "#     display(df)\n",
    "    return df.apply(wasserstein_2d_row_ab, axis=1, normalize=normalize)\n",
    "\n",
    "# display(observed_levels_distance(fpoe_a,fpoe_p))\n",
    "\n",
    "wasserstein_2d_df(fpoe_a,fpoe_g,True)\n",
    "# mine=observed_levels_distance(fpoe_a,fpoe_g, lambda u,v:wasserstein_2d(np.array([u]).transpose(),np.array([v]).transpose()))\n",
    "# orig=observed_levels_distance(fpoe_a,fpoe_g)\n",
    "# mine.loc[('0000','0000')]/orig.loc[('0000','0000')]\n",
    "\n",
    "#neos_a['list']\n",
    "# neos_a['mean'].applymap(lambda x:[x])\n",
    "#pd.DataFrame([a,b],index=['a','b']).fillna([0])\n",
    "#pd.DataFrame(a.array)\n",
    "#np.array(neos_a['list'].loc[('0000','0001')].apply(lambda x:[np.mean(x)]))\n",
    "#neos_a['mean'].loc[('0000','0001')].apply(lambda x:[x]).to_list()\n",
    "#by_feature(neos_g)['list']\n",
    "#fpoe_a['mean'].loc[('0000','0000')].sum()\n",
    "# np.array(neos_a['list'].loc[('0000','0001')].to_list()).transpose().shape[0]"
   ]
  },
  {
   "cell_type": "code",
   "execution_count": 13,
   "id": "fb5f801d",
   "metadata": {},
   "outputs": [
    {
     "ename": "NameError",
     "evalue": "name 'mine' is not defined",
     "output_type": "error",
     "traceback": [
      "\u001B[0;31m---------------------------------------------------------------------------\u001B[0m",
      "\u001B[0;31mNameError\u001B[0m                                 Traceback (most recent call last)",
      "\u001B[0;32m/var/folders/py/y5ly3l7n0fn7s10vtnnwvz780000gn/T/ipykernel_57337/3898439202.py\u001B[0m in \u001B[0;36m<module>\u001B[0;34m\u001B[0m\n\u001B[0;32m----> 1\u001B[0;31m \u001B[0mmine\u001B[0m\u001B[0;34m.\u001B[0m\u001B[0mloc\u001B[0m\u001B[0;34m[\u001B[0m\u001B[0;34m(\u001B[0m\u001B[0;34m'0000'\u001B[0m\u001B[0;34m,\u001B[0m\u001B[0;34m'0010'\u001B[0m\u001B[0;34m)\u001B[0m\u001B[0;34m]\u001B[0m\u001B[0;34m/\u001B[0m\u001B[0morig\u001B[0m\u001B[0;34m.\u001B[0m\u001B[0mloc\u001B[0m\u001B[0;34m[\u001B[0m\u001B[0;34m(\u001B[0m\u001B[0;34m'0000'\u001B[0m\u001B[0;34m,\u001B[0m\u001B[0;34m'0010'\u001B[0m\u001B[0;34m)\u001B[0m\u001B[0;34m]\u001B[0m\u001B[0;34m\u001B[0m\u001B[0;34m\u001B[0m\u001B[0m\n\u001B[0m",
      "\u001B[0;31mNameError\u001B[0m: name 'mine' is not defined"
     ]
    }
   ],
   "source": [
    "mine.loc[('0000','0010')]/orig.loc[('0000','0010')]"
   ]
  },
  {
   "cell_type": "code",
   "execution_count": null,
   "id": "58e42f35",
   "metadata": {},
   "outputs": [],
   "source": [
    "len(fpoe_g.loc[('0000','0000')]['list'][0])"
   ]
  },
  {
   "cell_type": "code",
   "execution_count": null,
   "id": "b0fb114a",
   "metadata": {},
   "outputs": [],
   "source": [
    "orig"
   ]
  },
  {
   "cell_type": "code",
   "execution_count": null,
   "id": "d8ce32a1",
   "metadata": {},
   "outputs": [],
   "source": [
    "mine"
   ]
  },
  {
   "cell_type": "code",
   "execution_count": null,
   "id": "00de9fa0",
   "metadata": {},
   "outputs": [],
   "source": [
    "from scipy.stats import wasserstein_distance\n",
    "\n",
    "# np.random.seed(0)\n",
    "n = 100\n",
    "\n",
    "Y1 = np.random.randn(n)\n",
    "Y2 = np.random.randn(n-10) - 2\n",
    "d =  np.abs(Y1 - Y2.reshape((n-10, 1)))\n",
    "\n",
    "assignment = linear_sum_assignment(d)\n",
    "print(d[assignment].sum()/90)       # 1.9777950447866477\n",
    "print(wasserstein_distance(Y1, Y2))  #\n",
    "#np.abs(Y1 - Y2.reshape((n, 1)))"
   ]
  },
  {
   "cell_type": "code",
   "execution_count": null,
   "id": "f8f521d6",
   "metadata": {},
   "outputs": [],
   "source": []
  },
  {
   "cell_type": "code",
   "execution_count": null,
   "id": "5f7505de",
   "metadata": {},
   "outputs": [],
   "source": []
  },
  {
   "cell_type": "code",
   "execution_count": null,
   "id": "53e6ca36-56bc-4e48-897b-ec6399f667eb",
   "metadata": {},
   "outputs": [],
   "source": [
    "s=ast.literal_eval(open('hawk-out/neos/solutions-neos-1338421.hawk-pbs5.pyon').read())"
   ]
  },
  {
   "cell_type": "code",
   "execution_count": null,
   "id": "f221cfb7-b53c-4597-8c1e-60df57bbb506",
   "metadata": {},
   "outputs": [],
   "source": [
    "f0=pd.DataFrame([{**d, 'val':v} for v,d in s[('0000','0000')]])"
   ]
  },
  {
   "cell_type": "code",
   "execution_count": null,
   "id": "f420c1ea-2e57-4989-88bd-e4c4856e87a2",
   "metadata": {},
   "outputs": [],
   "source": [
    "f0.sort_values('discount_factor')"
   ]
  },
  {
   "cell_type": "code",
   "execution_count": null,
   "id": "e9d88e54-18d6-4bc9-9bc3-7367c459f3f2",
   "metadata": {},
   "outputs": [],
   "source": [
    "g=sp.sparse.load_npz('../kpm/pokec_full.npz')"
   ]
  },
  {
   "cell_type": "code",
   "execution_count": null,
   "id": "5e42c0d2-5956-421f-82b9-b2e86c33a7cf",
   "metadata": {},
   "outputs": [],
   "source": [
    "g[0:990908//2, 0:990908//2]"
   ]
  }
 ],
 "metadata": {
  "kernelspec": {
   "display_name": "Python 3 (ipykernel)",
   "language": "python",
   "name": "python3"
  },
  "language_info": {
   "codemirror_mode": {
    "name": "ipython",
    "version": 3
   },
   "file_extension": ".py",
   "mimetype": "text/x-python",
   "name": "python",
   "nbconvert_exporter": "python",
   "pygments_lexer": "ipython3",
   "version": "3.9.7"
  }
 },
 "nbformat": 4,
 "nbformat_minor": 5
}